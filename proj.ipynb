{
  "cells": [
    {
      "cell_type": "markdown",
      "metadata": {
        "id": "view-in-github",
        "colab_type": "text"
      },
      "source": [
        "<a href=\"https://colab.research.google.com/github/AlexeyArcher/Proj_nn/blob/main/proj.ipynb\" target=\"_parent\"><img src=\"https://colab.research.google.com/assets/colab-badge.svg\" alt=\"Open In Colab\"/></a>"
      ]
    },
    {
      "cell_type": "code",
      "execution_count": null,
      "metadata": {
        "id": "8fpQ4T_Swabb"
      },
      "outputs": [],
      "source": [
        "import os\n",
        "from pathlib import Path\n",
        "from zipfile import ZipFile as zipfile\n",
        "import sys\n",
        "import time\n",
        "import pandas as pd\n",
        "import torch\n",
        "import torch.nn as nn\n",
        "import torch.optim as optim\n",
        "import torch.utils\n",
        "import torchvision\n",
        "import torchvision.models as models\n",
        "import torchvision.transforms as transforms\n",
        "from sklearn.model_selection import train_test_split\n",
        "from torch.autograd import Variable\n",
        "import shutil"
      ]
    },
    {
      "cell_type": "code",
      "execution_count": null,
      "metadata": {
        "id": "oPFSRzS-SGyl"
      },
      "outputs": [],
      "source": [
        "#from google.colab import drive\n",
        "#drive.mount('/content/drive')"
      ]
    },
    {
      "cell_type": "code",
      "execution_count": null,
      "metadata": {
        "id": "AKosnxJ2Rz8O"
      },
      "outputs": [],
      "source": [
        "image_path = Path(\"/content/drive/MyDrive/Colab Notebooks\")\n",
        "input_folder = image_path / \"dataset\"\n",
        "if not os.path.exists(input_folder):\n",
        "  with zipfile(image_path/\"dataset.zip\", 'r') as zipf:\n",
        "      print(\"Extracting files...\")\n",
        "      zipf.extractall(image_path)"
      ]
    },
    {
      "cell_type": "code",
      "execution_count": null,
      "metadata": {
        "id": "QQQWaB4CU0Vf"
      },
      "outputs": [],
      "source": [
        "device = torch.device('cuda:0')\n",
        "batch_size = 64\n",
        "torch.backends.cudnn.benchmark = True"
      ]
    },
    {
      "cell_type": "code",
      "execution_count": null,
      "metadata": {
        "id": "kTElqpiHTCxA"
      },
      "outputs": [],
      "source": [
        "data = pd.read_csv(image_path / \"train.csv\")\n",
        "\n",
        "data_pic = data[\"image\"]\n",
        "data_y = data[\"Class\"]"
      ]
    },
    {
      "cell_type": "code",
      "execution_count": null,
      "metadata": {
        "id": "7vlrWyhbN5VP"
      },
      "outputs": [],
      "source": [
        "total_classes = len(data_y.unique())"
      ]
    },
    {
      "cell_type": "code",
      "execution_count": null,
      "metadata": {
        "id": "3WFG1tdxbyeS"
      },
      "outputs": [],
      "source": [
        "pic_train, pic_test, y_train, y_test = train_test_split(data_pic, data_y, train_size=0.8, shuffle=True)"
      ]
    },
    {
      "cell_type": "code",
      "execution_count": null,
      "metadata": {
        "id": "XBhGbhcicmqe"
      },
      "outputs": [],
      "source": [
        "\n",
        "normalize = transforms.Normalize(mean=[0.5, 0.5, 0.5], std=[0.5, 0.5, 0.5])\n",
        "\n",
        "train_transform = transforms.Compose([\n",
        "          transforms.Resize((224,224)),\n",
        "          transforms.RandomResizedCrop(224),\n",
        "          transforms.RandomHorizontalFlip(),\n",
        "          transforms.ColorJitter(\n",
        "            brightness=0.4,\n",
        "            contrast=0.4,\n",
        "            saturation=0.4,\n",
        "            hue=0.2),\n",
        "          transforms.ToTensor(),\n",
        "          normalize,\n",
        "        ])\n",
        "\n",
        "test_transform = transforms.Compose([\n",
        "    transforms.Resize((224,224)),\n",
        "    transforms.CenterCrop(224),\n",
        "    transforms.ToTensor(),\n",
        "    normalize,\n",
        "  ])"
      ]
    },
    {
      "cell_type": "code",
      "execution_count": null,
      "metadata": {
        "id": "pcUc5mj4efyh"
      },
      "outputs": [],
      "source": [
        "Path(image_path / \"dataset\" / \"train\").mkdir(exist_ok = True, parents = True)\n",
        "Path(image_path / \"dataset\" / \"test\").mkdir(exist_ok = True, parents = True)"
      ]
    },
    {
      "cell_type": "code",
      "execution_count": null,
      "metadata": {
        "id": "nlU2ozce0vDu"
      },
      "outputs": [],
      "source": [
        "\n",
        "\n",
        "if not os.path.exists(image_path / \"dataset\" / \"train\" / \"13\"):\n",
        "  for image_name in pic_train:\n",
        "    Path(image_path / \"dataset\" / \"train\" / str(data[data[\"image\"] == image_name][\"Class\"].values[0])).mkdir(exist_ok = True, parents = True)\n",
        "    shutil.move(\n",
        "        input_folder / image_name, \n",
        "        input_folder / \"train\" / str(data[data[\"image\"] == image_name][\"Class\"].values[0]) / image_name\n",
        "        )\n",
        "  for image_name in pic_test:\n",
        "    Path(image_path / \"dataset\" / \"test\" / str(data[data[\"image\"] == image_name][\"Class\"].values[0])).mkdir(exist_ok = True, parents = True)\n",
        "    shutil.move(\n",
        "        input_folder / image_name, \n",
        "        input_folder / \"test\" / str(data[data[\"image\"] == image_name][\"Class\"].values[0]) / image_name\n",
        "        )"
      ]
    },
    {
      "cell_type": "code",
      "execution_count": null,
      "metadata": {
        "id": "Nx80_tcKey5-"
      },
      "outputs": [],
      "source": [
        "trainset = torchvision.datasets.ImageFolder(os.path.join(input_folder, \"train\"), transform=train_transform)\n",
        "train_loader = torch.utils.data.DataLoader(trainset, batch_size=batch_size, num_workers=2, shuffle=True, pin_memory = True)\n",
        "\n",
        "testset = torchvision.datasets.ImageFolder(os.path.join(input_folder, \"test\"), transform=test_transform)\n",
        "test_loader = torch.utils.data.DataLoader(testset, batch_size=batch_size, num_workers=2, shuffle=True, pin_memory = True)"
      ]
    },
    {
      "cell_type": "code",
      "execution_count": null,
      "metadata": {
        "id": "d_LYStCdVkO6",
        "colab": {
          "base_uri": "https://localhost:8080/",
          "height": 86,
          "referenced_widgets": [
            "4ed1ea52f87546528d5d7640f94e57ae",
            "77ec663887344eae87b86f52842f0351",
            "0b2b37fdebde4bc3b9f02ada9f88a223",
            "cb226b7a271e4c0aa83b5ba6f8cac11d",
            "5ba24d281a9742ec824f5433d591cf32",
            "d3b038d69e5d44e38b300b0158f3cf45",
            "14ba75f018ef494595c435724155f68e",
            "26457ae357f74e35bb380137415ddb71",
            "4190033caada4844b75b90c51de1f481",
            "b60d09d9ca75493695ff8475d5338653",
            "261d623b656e4b4fabafc9b47b8bd535"
          ]
        },
        "outputId": "d1e901f2-0302-4b02-8852-bfab3da0c56f"
      },
      "outputs": [
        {
          "output_type": "stream",
          "name": "stderr",
          "text": [
            "Downloading: \"https://download.pytorch.org/models/resnet101-cd907fc2.pth\" to /root/.cache/torch/hub/checkpoints/resnet101-cd907fc2.pth\n"
          ]
        },
        {
          "output_type": "display_data",
          "data": {
            "text/plain": [
              "  0%|          | 0.00/171M [00:00<?, ?B/s]"
            ],
            "application/vnd.jupyter.widget-view+json": {
              "version_major": 2,
              "version_minor": 0,
              "model_id": "4ed1ea52f87546528d5d7640f94e57ae"
            }
          },
          "metadata": {}
        }
      ],
      "source": [
        "from torchvision.models import ResNet101_Weights\n",
        "\n",
        "model_ft = models.resnet101(weights=ResNet101_Weights.DEFAULT)\n",
        "num_ftrs = model_ft.fc.in_features\n",
        "\n",
        "model_ft.fc = nn.Linear(num_ftrs, total_classes)\n",
        "model_ft = model_ft.to(device)\n",
        "\n",
        "\n",
        "criterion = nn.CrossEntropyLoss()\n",
        "optimizer = optim.SGD(model_ft.parameters(), lr=0.1, momentum=0.9)\n",
        "\n",
        "lrscheduler = optim.lr_scheduler.ReduceLROnPlateau(optimizer, mode='max', patience=1)"
      ]
    },
    {
      "cell_type": "code",
      "execution_count": null,
      "metadata": {
        "id": "qLg2ZWHtj-qu"
      },
      "outputs": [],
      "source": [
        "def train_model(model, criterion, optimizer, scheduler, n_epochs = 5):\n",
        "    \n",
        "    losses = []\n",
        "    accuracies = []\n",
        "    test_accuracies = []\n",
        "    model.train()\n",
        "    for epoch in range(n_epochs):\n",
        "        since = time.time()\n",
        "        running_loss = 0.0\n",
        "        for i, data in enumerate(train_loader, 0):\n",
        "            inputs, labels = data\n",
        "            #print(inputs.shape)\n",
        "            inputs = inputs.to(device)\n",
        "            labels = labels.to(device)\n",
        "            optimizer.zero_grad()\n",
        "            outputs = model(inputs)\n",
        "            _, predicted = torch.max(outputs.data, 1)\n",
        "            loss = criterion(outputs, labels)\n",
        "            if (i % 1000 == 0) :\n",
        "              torch.save({\n",
        "              'epoch': epoch,\n",
        "              'model_state_dict': model.state_dict(),\n",
        "              'optimizer_state_dict': optimizer.state_dict(),\n",
        "              'loss': loss,\n",
        "              }, image_path / \"checkpoint_model.pt\")\n",
        "              model_temp = torch.jit.script(model)\n",
        "              model_temp.save(\"model_temp.pt\")\n",
        "              print(\"Saved...\")\n",
        "            loss.backward()\n",
        "            optimizer.step()\n",
        "            \n",
        "            running_loss += loss.item()\n",
        "\n",
        "        epoch_duration = time.time()-since\n",
        "        epoch_loss = running_loss/len(train_loader)\n",
        "        print(\"Epoch %s, duration: %d s, loss: %.4f\" % (epoch+1, epoch_duration, epoch_loss))\n",
        "        \n",
        "        losses.append(epoch_loss)\n",
        "        \n",
        "        model.eval()\n",
        "        test_acc = eval_model(model)\n",
        "        test_accuracies.append(test_acc)\n",
        "        \n",
        "        model.train()\n",
        "        scheduler.step(test_acc)\n",
        "        since = time.time()\n",
        "    print('Finished Training')\n",
        "    return model, losses, test_accuracies\n"
      ]
    },
    {
      "cell_type": "code",
      "source": [
        "def eval_model(model):\n",
        "    correct = 0.0\n",
        "    total = 0.0\n",
        "    with torch.no_grad():\n",
        "        for _, data in enumerate(test_loader, 0):\n",
        "            images, labels = data\n",
        "            images = images.to(device)\n",
        "            labels = labels.to(device)\n",
        "            \n",
        "            outputs = model_ft(images)\n",
        "            print(outputs.size)\n",
        "            _, predicted = torch.max(outputs.data, 1)\n",
        "            \n",
        "            total += labels.size(0)\n",
        "            correct += (predicted == labels).sum().item()\n",
        "\n",
        "    test_acc = 100.0 * correct / total\n",
        "    print('test acc: %d %%' % (\n",
        "        test_acc))\n",
        "    return test_acc"
      ],
      "metadata": {
        "id": "1-ZV7KUVgFX2"
      },
      "execution_count": 18,
      "outputs": []
    },
    {
      "cell_type": "code",
      "execution_count": null,
      "metadata": {
        "id": "m6euLemm8pFi",
        "colab": {
          "base_uri": "https://localhost:8080/"
        },
        "outputId": "50d33b91-845b-4899-9659-5fa4155bdc48"
      },
      "outputs": [
        {
          "output_type": "stream",
          "name": "stdout",
          "text": [
            "Saved...\n"
          ]
        }
      ],
      "source": [
        "\n",
        "model_ft, training_losses, test_accs = train_model(model_ft, criterion, optimizer, lrscheduler, n_epochs=20)"
      ]
    },
    {
      "cell_type": "code",
      "execution_count": null,
      "metadata": {
        "id": "8HRQjoif4Vua"
      },
      "outputs": [],
      "source": [
        "torch.cuda.get_device_name(0)"
      ]
    },
    {
      "cell_type": "code",
      "source": [
        "model_saved = torch.jit.script(model_ft)\n",
        "model_saved.save(\"model_resnet101.pt\")"
      ],
      "metadata": {
        "id": "5V57Ko2JWVaJ"
      },
      "execution_count": 17,
      "outputs": []
    },
    {
      "cell_type": "code",
      "source": [
        "model_check = torch.jit.load"
      ],
      "metadata": {
        "id": "LStezzph6pzx"
      },
      "execution_count": null,
      "outputs": []
    }
  ],
  "metadata": {
    "accelerator": "GPU",
    "colab": {
      "provenance": [],
      "mount_file_id": "1v17dBQDblS6JIqZnTmDWJaJ2l_nKAKSF",
      "authorship_tag": "ABX9TyM0dUFOgbYMN5wbBELifBac",
      "include_colab_link": true
    },
    "gpuClass": "standard",
    "kernelspec": {
      "display_name": "Python 3",
      "name": "python3"
    },
    "language_info": {
      "name": "python"
    },
    "widgets": {
      "application/vnd.jupyter.widget-state+json": {
        "4ed1ea52f87546528d5d7640f94e57ae": {
          "model_module": "@jupyter-widgets/controls",
          "model_name": "HBoxModel",
          "model_module_version": "1.5.0",
          "state": {
            "_dom_classes": [],
            "_model_module": "@jupyter-widgets/controls",
            "_model_module_version": "1.5.0",
            "_model_name": "HBoxModel",
            "_view_count": null,
            "_view_module": "@jupyter-widgets/controls",
            "_view_module_version": "1.5.0",
            "_view_name": "HBoxView",
            "box_style": "",
            "children": [
              "IPY_MODEL_77ec663887344eae87b86f52842f0351",
              "IPY_MODEL_0b2b37fdebde4bc3b9f02ada9f88a223",
              "IPY_MODEL_cb226b7a271e4c0aa83b5ba6f8cac11d"
            ],
            "layout": "IPY_MODEL_5ba24d281a9742ec824f5433d591cf32"
          }
        },
        "77ec663887344eae87b86f52842f0351": {
          "model_module": "@jupyter-widgets/controls",
          "model_name": "HTMLModel",
          "model_module_version": "1.5.0",
          "state": {
            "_dom_classes": [],
            "_model_module": "@jupyter-widgets/controls",
            "_model_module_version": "1.5.0",
            "_model_name": "HTMLModel",
            "_view_count": null,
            "_view_module": "@jupyter-widgets/controls",
            "_view_module_version": "1.5.0",
            "_view_name": "HTMLView",
            "description": "",
            "description_tooltip": null,
            "layout": "IPY_MODEL_d3b038d69e5d44e38b300b0158f3cf45",
            "placeholder": "​",
            "style": "IPY_MODEL_14ba75f018ef494595c435724155f68e",
            "value": "100%"
          }
        },
        "0b2b37fdebde4bc3b9f02ada9f88a223": {
          "model_module": "@jupyter-widgets/controls",
          "model_name": "FloatProgressModel",
          "model_module_version": "1.5.0",
          "state": {
            "_dom_classes": [],
            "_model_module": "@jupyter-widgets/controls",
            "_model_module_version": "1.5.0",
            "_model_name": "FloatProgressModel",
            "_view_count": null,
            "_view_module": "@jupyter-widgets/controls",
            "_view_module_version": "1.5.0",
            "_view_name": "ProgressView",
            "bar_style": "success",
            "description": "",
            "description_tooltip": null,
            "layout": "IPY_MODEL_26457ae357f74e35bb380137415ddb71",
            "max": 178814045,
            "min": 0,
            "orientation": "horizontal",
            "style": "IPY_MODEL_4190033caada4844b75b90c51de1f481",
            "value": 178814045
          }
        },
        "cb226b7a271e4c0aa83b5ba6f8cac11d": {
          "model_module": "@jupyter-widgets/controls",
          "model_name": "HTMLModel",
          "model_module_version": "1.5.0",
          "state": {
            "_dom_classes": [],
            "_model_module": "@jupyter-widgets/controls",
            "_model_module_version": "1.5.0",
            "_model_name": "HTMLModel",
            "_view_count": null,
            "_view_module": "@jupyter-widgets/controls",
            "_view_module_version": "1.5.0",
            "_view_name": "HTMLView",
            "description": "",
            "description_tooltip": null,
            "layout": "IPY_MODEL_b60d09d9ca75493695ff8475d5338653",
            "placeholder": "​",
            "style": "IPY_MODEL_261d623b656e4b4fabafc9b47b8bd535",
            "value": " 171M/171M [00:02&lt;00:00, 91.5MB/s]"
          }
        },
        "5ba24d281a9742ec824f5433d591cf32": {
          "model_module": "@jupyter-widgets/base",
          "model_name": "LayoutModel",
          "model_module_version": "1.2.0",
          "state": {
            "_model_module": "@jupyter-widgets/base",
            "_model_module_version": "1.2.0",
            "_model_name": "LayoutModel",
            "_view_count": null,
            "_view_module": "@jupyter-widgets/base",
            "_view_module_version": "1.2.0",
            "_view_name": "LayoutView",
            "align_content": null,
            "align_items": null,
            "align_self": null,
            "border": null,
            "bottom": null,
            "display": null,
            "flex": null,
            "flex_flow": null,
            "grid_area": null,
            "grid_auto_columns": null,
            "grid_auto_flow": null,
            "grid_auto_rows": null,
            "grid_column": null,
            "grid_gap": null,
            "grid_row": null,
            "grid_template_areas": null,
            "grid_template_columns": null,
            "grid_template_rows": null,
            "height": null,
            "justify_content": null,
            "justify_items": null,
            "left": null,
            "margin": null,
            "max_height": null,
            "max_width": null,
            "min_height": null,
            "min_width": null,
            "object_fit": null,
            "object_position": null,
            "order": null,
            "overflow": null,
            "overflow_x": null,
            "overflow_y": null,
            "padding": null,
            "right": null,
            "top": null,
            "visibility": null,
            "width": null
          }
        },
        "d3b038d69e5d44e38b300b0158f3cf45": {
          "model_module": "@jupyter-widgets/base",
          "model_name": "LayoutModel",
          "model_module_version": "1.2.0",
          "state": {
            "_model_module": "@jupyter-widgets/base",
            "_model_module_version": "1.2.0",
            "_model_name": "LayoutModel",
            "_view_count": null,
            "_view_module": "@jupyter-widgets/base",
            "_view_module_version": "1.2.0",
            "_view_name": "LayoutView",
            "align_content": null,
            "align_items": null,
            "align_self": null,
            "border": null,
            "bottom": null,
            "display": null,
            "flex": null,
            "flex_flow": null,
            "grid_area": null,
            "grid_auto_columns": null,
            "grid_auto_flow": null,
            "grid_auto_rows": null,
            "grid_column": null,
            "grid_gap": null,
            "grid_row": null,
            "grid_template_areas": null,
            "grid_template_columns": null,
            "grid_template_rows": null,
            "height": null,
            "justify_content": null,
            "justify_items": null,
            "left": null,
            "margin": null,
            "max_height": null,
            "max_width": null,
            "min_height": null,
            "min_width": null,
            "object_fit": null,
            "object_position": null,
            "order": null,
            "overflow": null,
            "overflow_x": null,
            "overflow_y": null,
            "padding": null,
            "right": null,
            "top": null,
            "visibility": null,
            "width": null
          }
        },
        "14ba75f018ef494595c435724155f68e": {
          "model_module": "@jupyter-widgets/controls",
          "model_name": "DescriptionStyleModel",
          "model_module_version": "1.5.0",
          "state": {
            "_model_module": "@jupyter-widgets/controls",
            "_model_module_version": "1.5.0",
            "_model_name": "DescriptionStyleModel",
            "_view_count": null,
            "_view_module": "@jupyter-widgets/base",
            "_view_module_version": "1.2.0",
            "_view_name": "StyleView",
            "description_width": ""
          }
        },
        "26457ae357f74e35bb380137415ddb71": {
          "model_module": "@jupyter-widgets/base",
          "model_name": "LayoutModel",
          "model_module_version": "1.2.0",
          "state": {
            "_model_module": "@jupyter-widgets/base",
            "_model_module_version": "1.2.0",
            "_model_name": "LayoutModel",
            "_view_count": null,
            "_view_module": "@jupyter-widgets/base",
            "_view_module_version": "1.2.0",
            "_view_name": "LayoutView",
            "align_content": null,
            "align_items": null,
            "align_self": null,
            "border": null,
            "bottom": null,
            "display": null,
            "flex": null,
            "flex_flow": null,
            "grid_area": null,
            "grid_auto_columns": null,
            "grid_auto_flow": null,
            "grid_auto_rows": null,
            "grid_column": null,
            "grid_gap": null,
            "grid_row": null,
            "grid_template_areas": null,
            "grid_template_columns": null,
            "grid_template_rows": null,
            "height": null,
            "justify_content": null,
            "justify_items": null,
            "left": null,
            "margin": null,
            "max_height": null,
            "max_width": null,
            "min_height": null,
            "min_width": null,
            "object_fit": null,
            "object_position": null,
            "order": null,
            "overflow": null,
            "overflow_x": null,
            "overflow_y": null,
            "padding": null,
            "right": null,
            "top": null,
            "visibility": null,
            "width": null
          }
        },
        "4190033caada4844b75b90c51de1f481": {
          "model_module": "@jupyter-widgets/controls",
          "model_name": "ProgressStyleModel",
          "model_module_version": "1.5.0",
          "state": {
            "_model_module": "@jupyter-widgets/controls",
            "_model_module_version": "1.5.0",
            "_model_name": "ProgressStyleModel",
            "_view_count": null,
            "_view_module": "@jupyter-widgets/base",
            "_view_module_version": "1.2.0",
            "_view_name": "StyleView",
            "bar_color": null,
            "description_width": ""
          }
        },
        "b60d09d9ca75493695ff8475d5338653": {
          "model_module": "@jupyter-widgets/base",
          "model_name": "LayoutModel",
          "model_module_version": "1.2.0",
          "state": {
            "_model_module": "@jupyter-widgets/base",
            "_model_module_version": "1.2.0",
            "_model_name": "LayoutModel",
            "_view_count": null,
            "_view_module": "@jupyter-widgets/base",
            "_view_module_version": "1.2.0",
            "_view_name": "LayoutView",
            "align_content": null,
            "align_items": null,
            "align_self": null,
            "border": null,
            "bottom": null,
            "display": null,
            "flex": null,
            "flex_flow": null,
            "grid_area": null,
            "grid_auto_columns": null,
            "grid_auto_flow": null,
            "grid_auto_rows": null,
            "grid_column": null,
            "grid_gap": null,
            "grid_row": null,
            "grid_template_areas": null,
            "grid_template_columns": null,
            "grid_template_rows": null,
            "height": null,
            "justify_content": null,
            "justify_items": null,
            "left": null,
            "margin": null,
            "max_height": null,
            "max_width": null,
            "min_height": null,
            "min_width": null,
            "object_fit": null,
            "object_position": null,
            "order": null,
            "overflow": null,
            "overflow_x": null,
            "overflow_y": null,
            "padding": null,
            "right": null,
            "top": null,
            "visibility": null,
            "width": null
          }
        },
        "261d623b656e4b4fabafc9b47b8bd535": {
          "model_module": "@jupyter-widgets/controls",
          "model_name": "DescriptionStyleModel",
          "model_module_version": "1.5.0",
          "state": {
            "_model_module": "@jupyter-widgets/controls",
            "_model_module_version": "1.5.0",
            "_model_name": "DescriptionStyleModel",
            "_view_count": null,
            "_view_module": "@jupyter-widgets/base",
            "_view_module_version": "1.2.0",
            "_view_name": "StyleView",
            "description_width": ""
          }
        }
      }
    }
  },
  "nbformat": 4,
  "nbformat_minor": 0
}